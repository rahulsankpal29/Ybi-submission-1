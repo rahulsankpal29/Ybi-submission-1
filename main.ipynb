{
 "nbformat": 4,
 "nbformat_minor": 0,
 "metadata": {
  "colab": {
   "name": "Bank Customer Churn Analysis.ipynb",
   "provenance": [],
   "authorship_tag": "ABX9TyPZl4d0nA5Qmq8X1mDqSb1O"
  },
  "kernelspec": {
   "name": "python3",
   "display_name": "Python 3"
  },
  "language_info": {
   "name": "python"
  }
 },
 "cells": [
  {
   "cell_type": "markdown",
   "source": [
    "# **Bank Customer Churn Analysis**"
   ],
   "metadata": {
    "id": "dqZ-nhxiganh"
   }
  },
  {
   "cell_type": "markdown",
   "source": [
    "-------------"
   ],
   "metadata": {
    "id": "gScHkw6jjrLo"
   }
  },
  {
   "cell_type": "markdown",
   "source": [
    "## **Objective**"
   ],
   "metadata": {
    "id": "Xns_rCdhh-vZ"
   }
  },
  {
   "cell_type": "markdown",
   "source": [
    "This project aims to analyze customer churn in a bank using various machine learning techniques. The goal is to predict whether a customer will exit based on several features and handle imbalanced data using both over-sampling and under-sampling techniques."
   ],
   "metadata": {
    "id": "9sPvnFM1iI9l"
   }
  },
  {
   "cell_type": "markdown",
   "source": [
    "## **Data Source**"
   ],
   "metadata": {
    "id": "-Vbnt9CciKJP"
   }
  },
  {
   "cell_type": "markdown",
   "source": [
    "The dataset used in this analysis is the [Bank Customer Churn Dataset](https://www.kaggle.com/datasets/gauravtopre/bank-customer-churn-dataset?resource=download)."
   ],
   "metadata": {
    "id": "sGcv5WqQiNyl"
   }
  },
  {
   "cell_type": "markdown",
   "source": [
    "## **Import Library**"
   ],
   "metadata": {
    "id": "r7GrZzX0iTlV"
   }
  },
  {
   "cell_type": "code",
   "source": [
    "import pandas as pd\n",
    "import numpy as np\n",
    "import matplotlib.pyplot as plt\n",
    "import seaborn as sns\n",
    "from sklearn.model_selection import train_test_split, GridSearchCV\n",
    "from sklearn.preprocessing import StandardScaler\n",
    "from sklearn.svm import SVC\n",
    "from sklearn.metrics import classification_report, confusion_matrix\n",
    "from imblearn.over_sampling import RandomOverSampler\n",
    "from imblearn.under_sampling import RandomUnderSampler"
   ],
   "metadata": {
    "id": "UkK6NH9DiW-X"
   },
   "execution_count": null,
   "outputs": []
  },
  {
   "cell_type": "markdown",
   "source": [
    "## **Import Data**"
   ],
   "metadata": {
    "id": "9lHPQj1XiOUc"
   }
  },
  {
   "cell_type": "code",
   "source": [
    "url = 'https://www.kaggle.com/datasets/gauravtopre/bank-customer-churn-dataset?resource=download'\n",
    "df = pd.read_csv(url)"
   ],
   "metadata": {
    "id": "zcU1fdnGho6M"
   },
   "execution_count": null,
   "outputs": []
  },
  {
   "cell_type": "markdown",
   "source": [
    "## **Describe Data**"
   ],
   "metadata": {
    "id": "7PUnimBoiX-x"
   }
  },
  {
   "cell_type": "code",
   "source": [
    "df.head()\n",
    "df.info()"
   ],
   "metadata": {
    "id": "kG15arusiZ8Z"
   },
   "execution_count": null,
   "outputs": []
  },
  {
   "cell_type": "markdown",
   "source": [
    "## **Data Visualization**"
   ],
   "metadata": {
    "id": "oBGX4Ekniriz"
   }
  },
  {
   "cell_type": "code",
   "source": [
    "plt.figure(figsize=(10, 6))\n",
    "sns.countplot(x='Exited', data=df)\n",
    "plt.title('Distribution of Exited Customers')\n",
    "plt.show()"
   ],
   "metadata": {
    "id": "lW-OIRK0iuzO"
   },
   "execution_count": null,
   "outputs": []
  },
  {
   "cell_type": "markdown",
   "source": [
    "## **Data Preprocessing**"
   ],
   "metadata": {
    "id": "UqfyPOCYiiww"
   }
  },
  {
   "cell_type": "code",
   "source": [
    "df.set_index('CustomerId', inplace=True)\n",
    "\n",
    "# Encoding categorical variables\n",
    "df['Geography'] = df['Geography'].replace({'France': 2, 'Germany': 1, 'Spain': 0})\n",
    "df['Gender'] = df['Gender'].replace({'Male': 0, 'Female': 1})\n",
    "\n",
    "# Encode number of products as 0 and 1 (grouping 2, 3, and 4 into one category)\n",
    "df['NumberOfProducts'] = df['NumberOfProducts'].replace({1: 0, 2: 1, 3: 1, 4: 1})\n",
    "\n",
    "# Convert Credit Card and Active Member to binary (0 and 1)\n",
    "df['CreditCard'] = df['CreditCard'].replace({'Yes': 1, 'No': 0})\n",
    "df['ActiveMember'] = df['ActiveMember'].replace({'Yes': 1, 'No': 0})\n",
    "\n",
    "# Create a new feature for zero bank balance\n",
    "df['ZeroBankBalance'] = df['Balance'].apply(lambda x: 1 if x == 0 else 0)\n",
    "\n",
    "# Features and target variable\n",
    "X = df.drop(['Surname', 'Exited'], axis=1)\n",
    "y = df['Exited']"
   ],
   "metadata": {
    "id": "3cyr3fbGin0A"
   },
   "execution_count": null,
   "outputs": []
  },
  {
   "cell_type": "markdown",
   "source": [
    "## **Train Test Split**"
   ],
   "metadata": {
    "id": "2jXJpdAuiwYW"
   }
  },
  {
   "cell_type": "code",
   "source": [
    "X_train, X_test, y_train, y_test = train_test_split(X, y, test_size=0.2, random_state=42)"
   ],
   "metadata": {
    "id": "u60YYaOFi-Dw"
   },
   "execution_count": null,
   "outputs": []
  },
  {
   "cell_type": "markdown",
   "source": [
    "## **Data Standardization**"
   ],
   "metadata": {
    "id": "90_0q_Pbi658"
   }
  },
  {
   "cell_type": "code",
   "source": [
    "scaler = StandardScaler()\n",
    "X_train = scaler.fit_transform(X_train)\n",
    "X_test = scaler.transform(X_test)"
   ],
   "metadata": {
    "id": "u60YYaOFi-Dw"
   },
   "execution_count": null,
   "outputs": []
  },
  {
   "cell_type": "markdown",
   "source": [
    "## **Handling Imbalanced Data**"
   ],
   "metadata": {
    "id": "cIhyseNria7W"
   }
  },
  {
   "cell_type": "code",
   "source": [
    "# Handling imbalanced data with Random Under Sampling\n",
    "rus = RandomUnderSampler(random_state=42)\n",
    "X_rus, y_rus = rus.fit_resample(X_train, y_train)\n",
    "\n",
    "# Handling imbalanced data with Random Over Sampling\n",
    "ros = RandomOverSampler(random_state=42)\n",
    "X_ros, y_ros = ros.fit_resample(X_train, y_train)"
   ],
   "metadata": {
    "id": "Toq58wpkjCw7"
   },
   "execution_count": null,
   "outputs": []
  },
  {
   "cell_type": "markdown",
   "source": [
    "## **Modeling**"
   ],
   "metadata": {
    "id": "8AzwG7oLjiQI"
   }
  },
  {
   "cell_type": "code",
   "source": [
    "svc = SVC()\n",
    "\n",
    "# Hyperparameter tuning for the raw data\n",
    "param_grid = {\n",
    "    'C': [0.1, 1, 10],\n",
    "    'gamma': [0.1, 1, 10],\n",
    "    'kernel': ['rbf'],\n",
    "    'class_weight': ['balanced']\n",
    "}\n",
    "\n",
    "grid_search = GridSearchCV(svc, param_grid, cv=5, n_jobs=-1, scoring='f1')\n",
    "grid_search.fit(X_train, y_train)\n",
    "best_model_raw = grid_search.best_estimator_\n",
    "y_pred_raw = best_model_raw.predict(X_test)\n",
    "\n",
    "# Hyperparameter tuning for Random Under Sampling data\n",
    "grid_search_rus = GridSearchCV(svc, param_grid, cv=5, n_jobs=-1, scoring='f1')\n",
    "grid_search_rus.fit(X_rus, y_rus)\n",
    "best_model_rus = grid_search_rus.best_estimator_\n",
    "y_pred_rus = best_model_rus.predict(X_test)\n",
    "\n",
    "# Hyperparameter tuning for Random Over Sampling data\n",
    "grid_search_ros = GridSearchCV(svc, param_grid, cv=5, n_jobs=-1, scoring='f1')\n",
    "grid_search_ros.fit(X_ros, y_ros)\n",
    "best_model_ros = grid_search_ros.best_estimator_\n",
    "y_pred_ros = best_model_ros.predict(X_test)"
   ],
   "metadata": {
    "id": "JLebGzDJjknA"
   },
   "execution_count": null,
   "outputs": []
  },
  {
   "cell_type": "markdown",
   "source": [
    "## **Model Evaluation**"
   ],
   "metadata": {
    "id": "SBo38CJZjlEX"
   }
  },
  {
   "cell_type": "code",
   "source": [
    "def evaluate_model(y_test, y_pred, model_name):\n",
    "    print(f\"Evaluation for {model_name}\")\n",
    "    print(confusion_matrix(y_test, y_pred))\n",
    "    print(classification_report(y_test, y_pred))\n",
    "    print()\n",
    "\n",
    "print(\"Raw Data Model:\")\n",
    "evaluate_model(y_test, y_pred_raw, \"Raw Data Model\")\n",
    "\n",
    "print(\"Random Under Sampling Model:\")\n",
    "evaluate_model(y_test, y_pred_rus, \"Random Under Sampling Model\")\n",
    "\n",
    "print(\"Random Over Sampling Model:\")\n",
    "evaluate_model(y_test, y_pred_ros, \"Random Over Sampling Model\")"
   ],
   "metadata": {
    "id": "Ybi8FR9Kjv00"
   },
   "execution_count": null,
   "outputs": []
  }
 ]
}
